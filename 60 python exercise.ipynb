{
 "cells": [
  {
   "cell_type": "markdown",
   "id": "759d04ba",
   "metadata": {},
   "source": [
    "**1-Write a Python program to calculate the length of a string using 2 ways"
   ]
  },
  {
   "cell_type": "code",
   "execution_count": 2,
   "id": "e434c950",
   "metadata": {
    "ExecuteTime": {
     "end_time": "2023-08-12T19:15:59.612689Z",
     "start_time": "2023-08-12T19:15:59.599722Z"
    }
   },
   "outputs": [
    {
     "data": {
      "text/plain": [
       "51"
      ]
     },
     "execution_count": 2,
     "metadata": {},
     "output_type": "execute_result"
    }
   ],
   "source": [
    "sentence = \"Ben 10: Alien Force Season 1-3 Complete WEB-DL 720p\"\n",
    "\n",
    "len(sentence)"
   ]
  },
  {
   "cell_type": "code",
   "execution_count": 3,
   "id": "7a2dfa32",
   "metadata": {
    "ExecuteTime": {
     "end_time": "2023-08-12T19:15:59.628677Z",
     "start_time": "2023-08-12T19:15:59.614684Z"
    }
   },
   "outputs": [
    {
     "data": {
      "text/plain": [
       "51"
      ]
     },
     "execution_count": 3,
     "metadata": {},
     "output_type": "execute_result"
    }
   ],
   "source": [
    "sentence = \"Ben 10: Alien Force Season 1-3 Complete WEB-DL 720p\"\n",
    "counter = 0\n",
    "\n",
    "for i in sentence:\n",
    "    if i != None:\n",
    "        counter += 1\n",
    "counter"
   ]
  },
  {
   "cell_type": "markdown",
   "id": "d7cc9da7",
   "metadata": {},
   "source": [
    "**2-Write a Python program to get a string made of the first 2 and last 2 characters of a given string. If the string length is less than 2, return the empty string instead (\"##Sample String : 'w3resource'\n",
    "Expected Result : 'w3ce'\n",
    "##Sample String : 'w3'\n",
    "Expected Result : 'w3w3'\n",
    "##Sample String : ' w'\n",
    "Expected Result : Empty String)"
   ]
  },
  {
   "cell_type": "code",
   "execution_count": 4,
   "id": "dafa9dd8",
   "metadata": {
    "ExecuteTime": {
     "end_time": "2023-08-12T19:15:59.644605Z",
     "start_time": "2023-08-12T19:15:59.630639Z"
    }
   },
   "outputs": [
    {
     "name": "stdout",
     "output_type": "stream",
     "text": [
      "Cote\n"
     ]
    }
   ],
   "source": [
    "word = \"Complete\"\n",
    "\n",
    "if len(word) < 2:\n",
    "    print(\"\")\n",
    "else:\n",
    "    print(word[:2] + word[-2:])"
   ]
  },
  {
   "cell_type": "markdown",
   "id": "1534f956",
   "metadata": {},
   "source": [
    "**3-Write a Python program to add 'ing' at the end of a given string (length should be at least 3). If the given string already ends with 'ing', add 'ly' instead. If the string length of the given string is less than 3, leave it unchanged. (Sample String : 'abc'\n",
    "Expected Result : 'abcing')"
   ]
  },
  {
   "cell_type": "code",
   "execution_count": 6,
   "id": "7ff8cec4",
   "metadata": {
    "ExecuteTime": {
     "end_time": "2023-08-13T03:25:37.578605Z",
     "start_time": "2023-08-13T03:25:37.559655Z"
    }
   },
   "outputs": [
    {
     "name": "stdout",
     "output_type": "stream",
     "text": [
      "Completeing\n"
     ]
    }
   ],
   "source": [
    "word = \"Complete\"\n",
    "\n",
    "if len(word) >= 3:\n",
    "    if word[-3:] == \"ing\":\n",
    "        word += \"ly\"\n",
    "    else:\n",
    "        word += \"ing\"\n",
    "\n",
    "print(word)"
   ]
  },
  {
   "cell_type": "markdown",
   "id": "1c0a6627",
   "metadata": {},
   "source": [
    "**4-Write a Python function that takes a list of words and return the longest word and the length of the longest one\n",
    "(Longest word: Exercises\n",
    "Length of the longest word: 9)"
   ]
  },
  {
   "cell_type": "code",
   "execution_count": 14,
   "id": "397341d9",
   "metadata": {
    "ExecuteTime": {
     "end_time": "2023-08-13T03:43:47.743699Z",
     "start_time": "2023-08-13T03:43:47.735870Z"
    }
   },
   "outputs": [
    {
     "name": "stdout",
     "output_type": "stream",
     "text": [
      "Longest word: interactions\n",
      "Length of Longest word: 12\n"
     ]
    }
   ],
   "source": [
    "ListOfWord = [\"Describe\", \"the\", \"interactions\", \"between\", \"the\", \"system\", \"and\", \"its\", \"environment\"]\n",
    "counter = 0\n",
    "MaxWord = \"\"\n",
    "\n",
    "for i in ListOfWord:\n",
    "    if len(i) > counter:\n",
    "        counter = len(i)\n",
    "        MaxWord = i\n",
    "\n",
    "print(\"Longest word: {}\\nLength of Longest word: {}\".format(MaxWord, counter))"
   ]
  },
  {
   "cell_type": "markdown",
   "id": "53a03a6a",
   "metadata": {},
   "source": [
    "**5-Write a Python program to change a given string to a newly string where the first and last chars have been exchanged using 2 ways (Sample String:abca  Expected Result:ebce)"
   ]
  },
  {
   "cell_type": "code",
   "execution_count": 5,
   "id": "fd327d2a",
   "metadata": {
    "ExecuteTime": {
     "end_time": "2023-08-16T14:32:39.408844Z",
     "start_time": "2023-08-16T14:32:39.394769Z"
    }
   },
   "outputs": [
    {
     "name": "stdout",
     "output_type": "stream",
     "text": [
      "eompletC\n"
     ]
    }
   ],
   "source": [
    "def exchange_first_last(word):\n",
    "  if len(word) <= 1:\n",
    "    return word\n",
    "  first = word[0]\n",
    "  last = word[-1]\n",
    "  middle = word[1:-1]\n",
    "  return last + middle + first\n",
    "\n",
    "word = \"Complete\"\n",
    "print(exchange_first_last(word)) \n"
   ]
  },
  {
   "cell_type": "code",
   "execution_count": 6,
   "id": "285788b4",
   "metadata": {
    "ExecuteTime": {
     "end_time": "2023-08-16T14:34:03.881781Z",
     "start_time": "2023-08-16T14:34:03.864050Z"
    }
   },
   "outputs": [
    {
     "name": "stdout",
     "output_type": "stream",
     "text": [
      "eompletC\n"
     ]
    }
   ],
   "source": [
    "def exchang_first_last(word):\n",
    "  if len(word) <= 1:\n",
    "    return word\n",
    "  chars = list(word)\n",
    "  chars[0], chars[-1] = chars[-1], chars[0]\n",
    "  return \"\".join(chars)\n",
    "\n",
    "word = \"Complete\"\n",
    "print(exchange_first_last(word)) \n"
   ]
  },
  {
   "cell_type": "markdown",
   "id": "25f89808",
   "metadata": {},
   "source": [
    "**6-Write a Python program to remove characters that have odd index values in a given string (Sample String:abca Expected Result:ac)"
   ]
  },
  {
   "cell_type": "code",
   "execution_count": 24,
   "id": "05959bd7",
   "metadata": {
    "ExecuteTime": {
     "end_time": "2023-08-13T03:58:18.335271Z",
     "start_time": "2023-08-13T03:58:18.322583Z"
    }
   },
   "outputs": [
    {
     "data": {
      "text/plain": [
       "'Cmlt'"
      ]
     },
     "execution_count": 24,
     "metadata": {},
     "output_type": "execute_result"
    }
   ],
   "source": [
    "word = \"Complete\"\n",
    "new_word = \"\"\n",
    "\n",
    "for i in range(len(word)):\n",
    "    if i % 2 == 0:\n",
    "        new_word += word[i]\n",
    "        \n",
    "new_word"
   ]
  },
  {
   "cell_type": "markdown",
   "id": "eb16e898",
   "metadata": {},
   "source": [
    "**7-Write a Python program to count the occurrences of each word in a given sentence (Sample String:amr and ahmed are frindes but amr is the tallest Expected Result:2)"
   ]
  },
  {
   "cell_type": "code",
   "execution_count": 39,
   "id": "01ce6cf5",
   "metadata": {
    "ExecuteTime": {
     "end_time": "2023-08-13T04:15:51.200964Z",
     "start_time": "2023-08-13T04:15:51.187334Z"
    }
   },
   "outputs": [
    {
     "data": {
      "text/plain": [
       "{'i': 1,\n",
       " 'am': 1,\n",
       " 'a': 2,\n",
       " 'good': 2,\n",
       " 'person': 2,\n",
       " 'and': 1,\n",
       " 'you': 1,\n",
       " 'also': 1,\n",
       " 'too': 1}"
      ]
     },
     "execution_count": 39,
     "metadata": {},
     "output_type": "execute_result"
    }
   ],
   "source": [
    "sentence = \"i am a good person and you also a good person too\"\n",
    "words= sentence.split()\n",
    "words_counts = dict()\n",
    "\n",
    "for word in words:\n",
    "    if word in words_counts:\n",
    "        words_counts[word] += 1\n",
    "    else:\n",
    "        words_counts[word] = 1\n",
    "        \n",
    "words_counts"
   ]
  },
  {
   "cell_type": "markdown",
   "id": "4e8125f1",
   "metadata": {},
   "source": [
    "**8-Write a Python script that takes input from the user and displays that input back in upper and lower cases"
   ]
  },
  {
   "cell_type": "code",
   "execution_count": 40,
   "id": "66c8f778",
   "metadata": {
    "ExecuteTime": {
     "end_time": "2023-08-13T04:17:42.186566Z",
     "start_time": "2023-08-13T04:17:36.295883Z"
    }
   },
   "outputs": [
    {
     "name": "stdout",
     "output_type": "stream",
     "text": [
      "enter your word: LLLLoig\n"
     ]
    },
    {
     "data": {
      "text/plain": [
       "'lllloig'"
      ]
     },
     "execution_count": 40,
     "metadata": {},
     "output_type": "execute_result"
    }
   ],
   "source": [
    "input_num = input(\"enter your word: \")\n",
    "\n",
    "input_num.lower()"
   ]
  },
  {
   "cell_type": "markdown",
   "id": "fcd68aa1",
   "metadata": {},
   "source": [
    "**9-Write a Python function to reverse a string if its length is a multiple of 4"
   ]
  },
  {
   "cell_type": "code",
   "execution_count": 42,
   "id": "0671a931",
   "metadata": {
    "ExecuteTime": {
     "end_time": "2023-08-13T04:24:28.632967Z",
     "start_time": "2023-08-13T04:24:23.072172Z"
    }
   },
   "outputs": [
    {
     "name": "stdout",
     "output_type": "stream",
     "text": [
      "12345678\n"
     ]
    },
    {
     "data": {
      "text/plain": [
       "'87654321'"
      ]
     },
     "execution_count": 42,
     "metadata": {},
     "output_type": "execute_result"
    }
   ],
   "source": [
    "def reverse_string(string):\n",
    "    if len(string) % 4 == 0:\n",
    "        return string[::-1]\n",
    "    else:\n",
    "        return string\n",
    "    \n",
    "\n",
    "stri = input()\n",
    "reverse_string(stri)"
   ]
  },
  {
   "cell_type": "markdown",
   "id": "b577c68d",
   "metadata": {},
   "source": [
    "**10- Write a Python program to remove a newline in Python"
   ]
  },
  {
   "cell_type": "code",
   "execution_count": 46,
   "id": "e0c6525a",
   "metadata": {
    "ExecuteTime": {
     "end_time": "2023-08-13T04:27:12.589651Z",
     "start_time": "2023-08-13T04:27:12.581387Z"
    }
   },
   "outputs": [
    {
     "data": {
      "text/plain": [
       "'Ben 10: Alien Force Season 1-3 Complete WEB-DL 720p'"
      ]
     },
     "execution_count": 46,
     "metadata": {},
     "output_type": "execute_result"
    }
   ],
   "source": [
    "sentence = \"Ben 10: Alien Force\\n Season 1-3 Complete\\n WEB-DL 720p\"\n",
    "\n",
    "new_sentence = sentence.replace(\"\\n\", \"\")\n",
    "\n",
    "new_sentenc"
   ]
  },
  {
   "cell_type": "markdown",
   "id": "80db5ae0",
   "metadata": {},
   "source": [
    "**11-Write a Python program to check whether a string starts with specified characters"
   ]
  },
  {
   "cell_type": "code",
   "execution_count": 48,
   "id": "0cc4e03e",
   "metadata": {
    "ExecuteTime": {
     "end_time": "2023-08-13T04:32:35.831291Z",
     "start_time": "2023-08-13T04:32:35.825185Z"
    }
   },
   "outputs": [
    {
     "name": "stdout",
     "output_type": "stream",
     "text": [
      "your sentence don't start with loi\n"
     ]
    }
   ],
   "source": [
    "sentence = \"Ben 10: Alien Force\\n Season 1-3 Complete\\n WEB-DL 720p\"\n",
    "start = \"loi\"\n",
    "\n",
    "if sentence[0:len(start)] == start:\n",
    "    print(\"your sentence start with \"+ start)\n",
    "else:\n",
    "    print(\"your sentence don\\'t start with \"+ start)"
   ]
  },
  {
   "cell_type": "markdown",
   "id": "593a68db",
   "metadata": {},
   "source": [
    "**12- Write a Python program to add prefix text to all of the lines in a string"
   ]
  },
  {
   "cell_type": "code",
   "execution_count": 58,
   "id": "d2e46ada",
   "metadata": {
    "ExecuteTime": {
     "end_time": "2023-08-13T10:59:38.489045Z",
     "start_time": "2023-08-13T10:59:36.320357Z"
    }
   },
   "outputs": [
    {
     "name": "stdout",
     "output_type": "stream",
     "text": [
      "enter your prefix: hh\n",
      "hhfree is good \n",
      " hh freedom is better \n",
      " hh live is good\n",
      " \n"
     ]
    }
   ],
   "source": [
    "sentence = \"free is good \\n freedom is better \\n live is good\"\n",
    "prefix = input(\"enter your prefix: \")\n",
    "new_sentence = \"\"\n",
    "\n",
    "for line in sentence.split(\"\\n\"):\n",
    "    new_sentence += prefix + line + \"\\n \"\n",
    "    \n",
    "print(new_sentence)"
   ]
  },
  {
   "cell_type": "markdown",
   "id": "86fa1543",
   "metadata": {},
   "source": [
    "**13-Write a Python program to print the following numbers up to 2 decimal places"
   ]
  },
  {
   "cell_type": "code",
   "execution_count": 65,
   "id": "cd4a9d89",
   "metadata": {
    "ExecuteTime": {
     "end_time": "2023-08-13T11:05:31.263906Z",
     "start_time": "2023-08-13T11:05:14.247131Z"
    }
   },
   "outputs": [
    {
     "name": "stdout",
     "output_type": "stream",
     "text": [
      "ener the number:200.358784\n",
      "the rounded number: 200.36\n"
     ]
    }
   ],
   "source": [
    "def NumRound(num):\n",
    "    return round(num, 2)\n",
    "\n",
    "num = float(input(\"ener the number: \"))\n",
    "print(\"the rounded number: \"+str(NumRound(num)))"
   ]
  },
  {
   "cell_type": "code",
   "execution_count": 69,
   "id": "b192a8ba",
   "metadata": {
    "ExecuteTime": {
     "end_time": "2023-08-13T11:07:20.220212Z",
     "start_time": "2023-08-13T11:07:10.352120Z"
    }
   },
   "outputs": [
    {
     "name": "stdout",
     "output_type": "stream",
     "text": [
      "ener the number: 20.39999\n",
      "the rounded number: 20.40\n"
     ]
    }
   ],
   "source": [
    "def NumRound(num):\n",
    "    return \"{:.2f}\".format(num)\n",
    "\n",
    "num = float(input(\"ener the number: \"))\n",
    "print(\"the rounded number: \"+str(NumRound(num)))"
   ]
  },
  {
   "cell_type": "markdown",
   "id": "452c0ab0",
   "metadata": {},
   "source": [
    "**14-Write a Python program to print the following numbers up to 2 decimal places with a sign"
   ]
  },
  {
   "cell_type": "code",
   "execution_count": 71,
   "id": "73e82479",
   "metadata": {
    "ExecuteTime": {
     "end_time": "2023-08-13T11:10:12.490073Z",
     "start_time": "2023-08-13T11:10:04.503697Z"
    }
   },
   "outputs": [
    {
     "name": "stdout",
     "output_type": "stream",
     "text": [
      "ener the number: 23.333333333\n",
      "the rounded number: +23.33\n"
     ]
    }
   ],
   "source": [
    "def NumRound(num):\n",
    "    if num > 0:\n",
    "        return \"+{:.2f}\".format(num)\n",
    "    else:\n",
    "        return \"{:.2f}\".format(num)\n",
    "\n",
    "num = float(input(\"ener the number: \"))\n",
    "print(\"the rounded number: \"+str(NumRound(num)))"
   ]
  },
  {
   "cell_type": "markdown",
   "id": "32b1811a",
   "metadata": {},
   "source": [
    "**15-Write a Python program to display a number with a comma separator"
   ]
  },
  {
   "cell_type": "code",
   "execution_count": 10,
   "id": "f30fc0b6",
   "metadata": {
    "ExecuteTime": {
     "end_time": "2023-08-16T14:39:42.614140Z",
     "start_time": "2023-08-16T14:39:42.600661Z"
    }
   },
   "outputs": [
    {
     "name": "stdout",
     "output_type": "stream",
     "text": [
      "1,2,3,4,5,6,7,8,9\n"
     ]
    }
   ],
   "source": [
    "def Num_Comma_Separater(n):\n",
    "    num = str(n)\n",
    "    num = num[::-1]\n",
    "    num = \",\".join([num[i] for i in range(0, len(num))])\n",
    "    num = num[::-1]\n",
    "    return num\n",
    "\n",
    "num = 123456789\n",
    "print(Num_Comma_Separater(num)) \n"
   ]
  },
  {
   "cell_type": "markdown",
   "id": "0477f487",
   "metadata": {},
   "source": [
    "**16-Write a Python program to reverse a string using 2 ways"
   ]
  },
  {
   "cell_type": "code",
   "execution_count": 78,
   "id": "aa8beec8",
   "metadata": {
    "ExecuteTime": {
     "end_time": "2023-08-13T11:22:38.296634Z",
     "start_time": "2023-08-13T11:22:13.520058Z"
    }
   },
   "outputs": [
    {
     "name": "stdout",
     "output_type": "stream",
     "text": [
      "enter your word: i am a good person and you also a good person too\n"
     ]
    },
    {
     "data": {
      "text/plain": [
       "'oot nosrep doog a osla uoy dna nosrep doog a ma i'"
      ]
     },
     "execution_count": 78,
     "metadata": {},
     "output_type": "execute_result"
    }
   ],
   "source": [
    "def reverse_string(word):\n",
    "    return word[::-1]\n",
    "\n",
    "word = input(\"enter your word: \")\n",
    "reverse_string(word)"
   ]
  },
  {
   "cell_type": "code",
   "execution_count": 12,
   "id": "6cd20ef8",
   "metadata": {
    "ExecuteTime": {
     "end_time": "2023-08-16T14:43:52.357953Z",
     "start_time": "2023-08-16T14:43:50.255305Z"
    }
   },
   "outputs": [
    {
     "name": "stdout",
     "output_type": "stream",
     "text": [
      "enter your word: i am a good person and you also a good person too\n",
      "oot nosrep doog a osla uoy dna nosrep doog a ma i\n"
     ]
    }
   ],
   "source": [
    "def reverse_string(word):\n",
    "    reversed = \"\"\n",
    "    for i in range(len(word)-1, -1, -1):\n",
    "        reversed += word[i]\n",
    "    return reversed\n",
    "\n",
    "word = input(\"enter your word: \")\n",
    "print(reverse_string(word))"
   ]
  },
  {
   "cell_type": "markdown",
   "id": "5afc3166",
   "metadata": {},
   "source": [
    " **17-Write a Python program to count repeated characters in a string (hint:use dictionary)"
   ]
  },
  {
   "cell_type": "code",
   "execution_count": 79,
   "id": "515a469c",
   "metadata": {
    "ExecuteTime": {
     "end_time": "2023-08-13T11:27:30.835453Z",
     "start_time": "2023-08-13T11:27:26.552595Z"
    }
   },
   "outputs": [
    {
     "name": "stdout",
     "output_type": "stream",
     "text": [
      "enter your sentence: i am a good person and you also a good person too\n",
      "{'i': 1, ' ': 11, 'a': 5, 'm': 1, 'g': 2, 'o': 10, 'd': 3, 'p': 2, 'e': 2, 'r': 2, 's': 3, 'n': 3, 'y': 1, 'u': 1, 'l': 1, 't': 1}\n"
     ]
    }
   ],
   "source": [
    "def couunt_repeated_characters(sentence):\n",
    "    character_count = {}\n",
    "    for i in sentence:\n",
    "        if i in character_count:\n",
    "            character_count[i] += 1\n",
    "        else:\n",
    "            character_count[i] = 1\n",
    "    \n",
    "    return character_count\n",
    "\n",
    "sen = input(\"enter your sentence: \")\n",
    "print(couunt_repeated_characters(sen))"
   ]
  },
  {
   "cell_type": "markdown",
   "id": "ae14e4e5",
   "metadata": {},
   "source": [
    "**18-Write a Python program to find the first non-repeating character in a given string"
   ]
  },
  {
   "cell_type": "code",
   "execution_count": 84,
   "id": "d73778e5",
   "metadata": {
    "ExecuteTime": {
     "end_time": "2023-08-13T11:35:06.126796Z",
     "start_time": "2023-08-13T11:34:36.743521Z"
    }
   },
   "outputs": [
    {
     "name": "stdout",
     "output_type": "stream",
     "text": [
      "enter your sentence: i am a good person and you also a good person tooi am a good person and you also a good person too\n",
      "None\n"
     ]
    }
   ],
   "source": [
    "def first_nonrepeating_character(sentence):\n",
    "    character_count = {}\n",
    "    charr = ''\n",
    "    for i in sentence:\n",
    "        if i in character_count:\n",
    "            character_count[i] += 1\n",
    "        else:\n",
    "            character_count[i] = 1\n",
    "    \n",
    "    for key, value in character_count.items():\n",
    "        if value == 1:\n",
    "            charr = key\n",
    "            return charr\n",
    "\n",
    "sen = input(\"enter your sentence: \")\n",
    "print(first_nonrepeating_character(sen))"
   ]
  },
  {
   "cell_type": "markdown",
   "id": "3adf5669",
   "metadata": {},
   "source": [
    "**19-Write a Python program to remove spaces from a given string"
   ]
  },
  {
   "cell_type": "code",
   "execution_count": 85,
   "id": "b4f22602",
   "metadata": {
    "ExecuteTime": {
     "end_time": "2023-08-13T14:41:18.923532Z",
     "start_time": "2023-08-13T14:41:15.926755Z"
    }
   },
   "outputs": [
    {
     "name": "stdout",
     "output_type": "stream",
     "text": [
      "enter your sentencei am a good person and you also a good person too\n",
      "iamagoodpersonandyoualsoagoodpersontoo\n"
     ]
    }
   ],
   "source": [
    "def remove_spaces(sentence):\n",
    "    sentence = sentence.replace(\" \", \"\")\n",
    "    return sentence\n",
    "\n",
    "sentence = input(\"enter your sentence\")\n",
    "print(remove_spaces(sentence))"
   ]
  },
  {
   "cell_type": "markdown",
   "id": "734de60c",
   "metadata": {},
   "source": [
    "**20-Write a Python program to count the number of non-empty substrings of a given string"
   ]
  },
  {
   "cell_type": "code",
   "execution_count": 13,
   "id": "ef3f2274",
   "metadata": {
    "ExecuteTime": {
     "end_time": "2023-08-16T14:48:32.360115Z",
     "start_time": "2023-08-16T14:48:14.522623Z"
    }
   },
   "outputs": [
    {
     "name": "stdout",
     "output_type": "stream",
     "text": [
      "Input a string: w3resource\n",
      "Number of substrings:\n",
      "55\n"
     ]
    }
   ],
   "source": [
    "def number_of_substrings(word):  \n",
    "    return int(len(word) * (len(word) + 1) / 2); \n",
    "\n",
    "word = input(\"Input a string: \")\n",
    "print(\"Number of substrings:\") \n",
    "print(number_of_substrings(word))"
   ]
  },
  {
   "cell_type": "markdown",
   "id": "509998e2",
   "metadata": {},
   "source": [
    "**21-write a Python program to swap first and last element of any list."
   ]
  },
  {
   "cell_type": "code",
   "execution_count": 87,
   "id": "68692d7f",
   "metadata": {
    "ExecuteTime": {
     "end_time": "2023-08-13T14:48:37.637203Z",
     "start_time": "2023-08-13T14:48:37.623241Z"
    }
   },
   "outputs": [
    {
     "name": "stdout",
     "output_type": "stream",
     "text": [
      "['environment', 'the', 'interactions', 'between', 'the', 'system', 'and', 'its', 'Describe']\n"
     ]
    }
   ],
   "source": [
    "def swap_list(list1):\n",
    "    container = list1[0]\n",
    "    list1[0] = list1[-1]\n",
    "    list1[-1] = container\n",
    "    return list1\n",
    "\n",
    "ListOfWord = [\"Describe\", \"the\", \"interactions\", \"between\", \"the\", \"system\", \"and\", \"its\", \"environment\"]\n",
    "print(swap_list(ListOfWord))"
   ]
  },
  {
   "cell_type": "markdown",
   "id": "959e0837",
   "metadata": {},
   "source": [
    "**22-Given a list in Python and provided the positions of the elements, write a program to swap the two elements in the list. (Input : List = [23, 65, 19, 90], pos1 = 1, pos2 = 3\n",
    "Output : [19, 65, 23, 90])"
   ]
  },
  {
   "cell_type": "code",
   "execution_count": 93,
   "id": "225d8c6d",
   "metadata": {
    "ExecuteTime": {
     "end_time": "2023-08-13T15:10:06.756323Z",
     "start_time": "2023-08-13T15:09:59.623142Z"
    }
   },
   "outputs": [
    {
     "name": "stdout",
     "output_type": "stream",
     "text": [
      "enter the first position 2\n",
      "enter the second position 4\n",
      "['Describe', 'between', 'interactions', 'the', 'the', 'system', 'and', 'its', 'environment']\n"
     ]
    }
   ],
   "source": [
    "def swap_2_elements(list1, pos1, pos2):\n",
    "    container = list1[(pos1)-1]\n",
    "    list1[(pos1)-1] = list1[(pos2)-1]\n",
    "    list1[(pos2)-1] = container\n",
    "    return list1\n",
    "\n",
    "word_list = [\"Describe\", \"the\", \"interactions\", \"between\", \"the\", \"system\", \"and\", \"its\", \"environment\"]\n",
    "position1 = int(input(\"enter the first position \"))\n",
    "position2 = int(input(\"enter the second position \"))\n",
    "print(swap_2_elements(word_list, position1, position2))"
   ]
  },
  {
   "cell_type": "markdown",
   "id": "66fc6682",
   "metadata": {},
   "source": [
    "**23- search for the all ways to know the length of the list"
   ]
  },
  {
   "cell_type": "code",
   "execution_count": 14,
   "id": "9518557d",
   "metadata": {
    "ExecuteTime": {
     "end_time": "2023-08-16T14:57:28.423187Z",
     "start_time": "2023-08-16T14:57:28.404215Z"
    }
   },
   "outputs": [
    {
     "name": "stdout",
     "output_type": "stream",
     "text": [
      "5\n"
     ]
    }
   ],
   "source": [
    "my_list = [1, 2, 3, 4, 5]\n",
    "length = len(my_list)\n",
    "print(length) "
   ]
  },
  {
   "cell_type": "code",
   "execution_count": 15,
   "id": "d34eee44",
   "metadata": {
    "ExecuteTime": {
     "end_time": "2023-08-16T14:57:46.074072Z",
     "start_time": "2023-08-16T14:57:46.065096Z"
    }
   },
   "outputs": [
    {
     "name": "stdout",
     "output_type": "stream",
     "text": [
      "5\n"
     ]
    }
   ],
   "source": [
    "my_list = [1, 2, 3, 4, 5]\n",
    "counter = 0\n",
    "for item in my_list:\n",
    "  counter += 1\n",
    "print(counter) "
   ]
  },
  {
   "cell_type": "code",
   "execution_count": 16,
   "id": "21ebb765",
   "metadata": {
    "ExecuteTime": {
     "end_time": "2023-08-16T14:57:59.249944Z",
     "start_time": "2023-08-16T14:57:59.236566Z"
    }
   },
   "outputs": [
    {
     "name": "stdout",
     "output_type": "stream",
     "text": [
      "5\n"
     ]
    }
   ],
   "source": [
    "import operator\n",
    "my_list = [1, 2, 3, 4, 5]\n",
    "length = operator.length_hint(my_list)\n",
    "print(length)"
   ]
  },
  {
   "cell_type": "markdown",
   "id": "1c77170d",
   "metadata": {},
   "source": [
    "**24-write a Python code to find the Maximum number of list of numbers."
   ]
  },
  {
   "cell_type": "code",
   "execution_count": 1,
   "id": "15f342de",
   "metadata": {
    "ExecuteTime": {
     "end_time": "2023-08-13T16:19:37.715092Z",
     "start_time": "2023-08-13T16:19:37.702119Z"
    }
   },
   "outputs": [
    {
     "name": "stdout",
     "output_type": "stream",
     "text": [
      "3256\n"
     ]
    }
   ],
   "source": [
    "def find_max(list1):\n",
    "    max_num = 0\n",
    "    for i in list1:\n",
    "        if max_num < i:\n",
    "            max_num = i\n",
    "    return max_num\n",
    "num_list = [12, 35, 123, 3256, 21, 25, 25, 58, 99]\n",
    "print(find_max(num_list))"
   ]
  },
  {
   "cell_type": "markdown",
   "id": "177dd64a",
   "metadata": {},
   "source": [
    "**25-write a Python code to find the Minimum number of list of numbers."
   ]
  },
  {
   "cell_type": "code",
   "execution_count": 2,
   "id": "21f8cbd6",
   "metadata": {
    "ExecuteTime": {
     "end_time": "2023-08-13T16:22:11.923007Z",
     "start_time": "2023-08-13T16:22:11.911543Z"
    }
   },
   "outputs": [
    {
     "name": "stdout",
     "output_type": "stream",
     "text": [
      "12\n"
     ]
    }
   ],
   "source": [
    "def find_min(list1):\n",
    "    min_num = list1[0]\n",
    "    for i in list1:\n",
    "        if min_num > i:\n",
    "            min_num = i\n",
    "    return min_num\n",
    "\n",
    "num_list = [12, 35, 123, 3256, 21, 25, 25, 58, 99]\n",
    "print(find_min(num_list))"
   ]
  },
  {
   "cell_type": "markdown",
   "id": "96822d96",
   "metadata": {},
   "source": [
    "**26-search for if an elem is existing in list"
   ]
  },
  {
   "cell_type": "code",
   "execution_count": 7,
   "id": "51ca5c9a",
   "metadata": {
    "ExecuteTime": {
     "end_time": "2023-08-13T16:36:08.058083Z",
     "start_time": "2023-08-13T16:36:02.485810Z"
    }
   },
   "outputs": [
    {
     "name": "stdout",
     "output_type": "stream",
     "text": [
      "enter the item: er\n",
      "er is not in list\n"
     ]
    }
   ],
   "source": [
    "def search(list1, item):\n",
    "    m=0\n",
    "    for i in list1:\n",
    "        if item == i:\n",
    "            return \"{} is in list\".format(item)\n",
    "            m+=1\n",
    "            break\n",
    "        \n",
    "    if m == 0:\n",
    "        return \"{} is not in list\".format(item)\n",
    "        \n",
    "word_list = [\"Describe\", \"the\", \"interactions\", \"between\", \"the\", \"system\", \"and\", \"its\", \"environment\"]\n",
    "search_item = input(\"enter the item: \")\n",
    "print(search(word_list, search_item))"
   ]
  },
  {
   "cell_type": "markdown",
   "id": "d9557da7",
   "metadata": {},
   "source": [
    "**27- clear python list using different ways"
   ]
  },
  {
   "cell_type": "code",
   "execution_count": 1,
   "id": "14addb34",
   "metadata": {
    "ExecuteTime": {
     "end_time": "2023-08-14T14:27:06.100557Z",
     "start_time": "2023-08-14T14:27:06.081063Z"
    }
   },
   "outputs": [
    {
     "name": "stdout",
     "output_type": "stream",
     "text": [
      "[]\n"
     ]
    }
   ],
   "source": [
    "def clear_list(list1):\n",
    "    list1.clear()\n",
    "    return list1\n",
    "\n",
    "word_list = [\"Describe\", \"the\", \"interactions\", \"between\", \"the\", \"system\", \"and\", \"its\", \"environment\"]\n",
    "print(clear_list(word_list))"
   ]
  },
  {
   "cell_type": "code",
   "execution_count": 14,
   "id": "b7888bf9",
   "metadata": {
    "ExecuteTime": {
     "end_time": "2023-08-14T10:58:14.362967Z",
     "start_time": "2023-08-14T10:58:14.356213Z"
    }
   },
   "outputs": [
    {
     "name": "stdout",
     "output_type": "stream",
     "text": [
      "['between', 'the', 'system', 'its']\n"
     ]
    }
   ],
   "source": [
    "def clear_list(list1):\n",
    "    for i in list1:\n",
    "        list1.remove(i)\n",
    "    return list1\n",
    "\n",
    "word_list = [\"Describe\", \"the\", \"interactions\", \"between\", \"the\", \"system\", \"and\", \"its\", \"environment\"]\n",
    "print(clear_list(word_list))"
   ]
  },
  {
   "cell_type": "markdown",
   "id": "52160e88",
   "metadata": {},
   "source": [
    "**28-remove duplicated elements from a list"
   ]
  },
  {
   "cell_type": "code",
   "execution_count": 7,
   "id": "5e362228",
   "metadata": {
    "ExecuteTime": {
     "end_time": "2023-08-14T14:43:15.714559Z",
     "start_time": "2023-08-14T14:43:15.694129Z"
    }
   },
   "outputs": [
    {
     "name": "stdout",
     "output_type": "stream",
     "text": [
      "['Describe', 'the', 'interactions', 'between', 'system', 'and', 'its', 'environment']\n"
     ]
    }
   ],
   "source": [
    "def remove_duplicate(list1):\n",
    "    list2 = []\n",
    "    for i in list1:\n",
    "        if i not in list2:\n",
    "            list2.append(i)\n",
    "    return list2\n",
    "\n",
    "word_list = [\"Describe\", \"the\", \"interactions\", \"between\", \"the\", \"system\", \"and\", \"its\", \"environment\" , \"between\", \"the\", \"system\", \"and\", \"its\",\"Describe\", \"the\", \"interactions\", \"between\", \"the\", \"system\", \"and\", \"its\", \"environment\"]\n",
    "print(remove_duplicate(word_list))"
   ]
  },
  {
   "cell_type": "markdown",
   "id": "282337f7",
   "metadata": {},
   "source": [
    "**29-Given list values and keys list, convert these values to key value pairs in form of list of dictionaries. (Input : test_list = [“Gfg”, 3, “is”, 8], key_list = [“name”, “id”]\n",
    "Output : [{‘name’: ‘Gfg’, ‘id’: 3}, {‘name’: ‘is’, ‘id’: 8}])"
   ]
  },
  {
   "cell_type": "code",
   "execution_count": 9,
   "id": "4d4e2d28",
   "metadata": {
    "ExecuteTime": {
     "end_time": "2023-08-14T15:09:04.246086Z",
     "start_time": "2023-08-14T15:09:04.239472Z"
    }
   },
   "outputs": [
    {
     "name": "stdout",
     "output_type": "stream",
     "text": [
      "[{'name': 'Gfg', 'id': 3}, {'name': 'is', 'id': 8}, {'name': 'll', 'id': 3}, {'name': 'jjj', 'id': 3}]\n"
     ]
    }
   ],
   "source": [
    "def make_list_of_dicit(key, vlaue):\n",
    "    list1= []\n",
    "    for i in range(0, len(value), 2):\n",
    "        dic = {key[0]: value[i], key[1]: value[i+1]}\n",
    "        list1.append(dic)\n",
    "    return list1\n",
    "\n",
    "key = [\"name\", \"id\"]\n",
    "value =  [\"Gfg\", 3, \"is\", 8, \"ll\", 3, \"jjj\", 3]\n",
    "print(make_list_of_dicit(key, value))"
   ]
  },
  {
   "cell_type": "markdown",
   "id": "c26b6e9f",
   "metadata": {},
   "source": [
    "**30-write a python program to count unique values inside a list using different ways"
   ]
  },
  {
   "cell_type": "code",
   "execution_count": 4,
   "id": "72132667",
   "metadata": {
    "ExecuteTime": {
     "end_time": "2023-08-14T20:00:15.361173Z",
     "start_time": "2023-08-14T20:00:15.344273Z"
    }
   },
   "outputs": [
    {
     "name": "stdout",
     "output_type": "stream",
     "text": [
      "['Describe']\n"
     ]
    }
   ],
   "source": [
    "def count_unique_value(list1):\n",
    "    count = {}\n",
    "    unique_value = []\n",
    "    for i in list1:\n",
    "        if i not in count:\n",
    "            count[i] = 1\n",
    "        else:\n",
    "            count[i] += 1\n",
    "    for key,value in count.items():\n",
    "        if value == 1:\n",
    "            unique_value.append(key)\n",
    "    return unique_value\n",
    "\n",
    "word_list = [\"Describe\", \"the\", \"interactions\", \"between\", \"the\", \"system\", \"and\", \"its\", \"environment\", \"interactions\", \"between\", \"the\", \"system\", \"and\", \"its\", \"environment\", \"interactions\", \"between\", \"the\", \"system\", \"and\", \"its\", \"environment\"]\n",
    "print(count_unique_value(word_list))"
   ]
  },
  {
   "cell_type": "markdown",
   "id": "fed6677c",
   "metadata": {},
   "source": [
    "**31-write a python program Extract all elements with Frequency greater than K (Input : test_list = [4, 6, 4, 3, 3, 4, 3, 4, 3, 8], K = 3 \n",
    "Output : [4, 3] )"
   ]
  },
  {
   "cell_type": "code",
   "execution_count": 6,
   "id": "d81f3f9d",
   "metadata": {
    "ExecuteTime": {
     "end_time": "2023-08-14T20:04:49.906176Z",
     "start_time": "2023-08-14T20:04:49.890619Z"
    }
   },
   "outputs": [
    {
     "name": "stdout",
     "output_type": "stream",
     "text": [
      "[4, 3]\n"
     ]
    }
   ],
   "source": [
    "def extract_elements(list1, frequency):\n",
    "    count = {}\n",
    "    unique_value = []\n",
    "    for i in list1:\n",
    "        if i not in count:\n",
    "            count[i] = 1\n",
    "        else:\n",
    "            count[i] += 1\n",
    "    for key,value in count.items():\n",
    "        if value > frequency:\n",
    "            unique_value.append(key)\n",
    "    return unique_value\n",
    "\n",
    "test_list = [4, 6, 4, 3, 3, 4, 3, 4, 3, 8]\n",
    "print(extract_elements(test_list, 3))"
   ]
  },
  {
   "cell_type": "markdown",
   "id": "caca5224",
   "metadata": {},
   "source": [
    "**32-write a python program to find the Strongest Neighbour (Input: 1 2 2 3 4 5\n",
    "Output: 2 2 3 4 5)"
   ]
  },
  {
   "cell_type": "code",
   "execution_count": 29,
   "id": "39fbd9b2",
   "metadata": {
    "ExecuteTime": {
     "end_time": "2023-08-14T20:42:34.730798Z",
     "start_time": "2023-08-14T20:42:34.715122Z"
    }
   },
   "outputs": [
    {
     "name": "stdout",
     "output_type": "stream",
     "text": [
      "[2, 3, 6, 7, 7, 9, 9]\n"
     ]
    }
   ],
   "source": [
    "def strongest_neighbour(list1):\n",
    "    strongest_neighbours = []\n",
    "    for i in range(1, len(list1)):\n",
    "        r = max(list1[i], list1[i-1])\n",
    "        strongest_neighbours.append(r)\n",
    "    return strongest_neighbours\n",
    "\n",
    "lis1 = [1, 2, 3, 6, 7, 4, 9, 6]\n",
    "print(strongest_neighbour(lis1))"
   ]
  },
  {
   "cell_type": "markdown",
   "id": "a9fa8baf",
   "metadata": {},
   "source": [
    "**33-write a Python Program to print all Possible Combinations from the three Digits (Input: [1, 2, 3]\n",
    "Output:\n",
    "1 2 3 ##\n",
    "1 3 2 ##\n",
    "2 1 3 ##\n",
    "2 3 1 ##\n",
    "3 1 2 ##\n",
    "3 2 1)"
   ]
  },
  {
   "cell_type": "code",
   "execution_count": 33,
   "id": "8c520a76",
   "metadata": {
    "ExecuteTime": {
     "end_time": "2023-08-14T20:49:10.713598Z",
     "start_time": "2023-08-14T20:49:10.700927Z"
    }
   },
   "outputs": [
    {
     "name": "stdout",
     "output_type": "stream",
     "text": [
      "1 2 3\n",
      "1 3 2\n",
      "2 1 3\n",
      "2 3 1\n",
      "3 1 2\n",
      "3 2 1\n"
     ]
    }
   ],
   "source": [
    "def get_combinations(list1):\n",
    "    for i in list1:\n",
    "        for j in list1:\n",
    "            if i != j:\n",
    "                for k in list1:\n",
    "                    if k != i and k != j:\n",
    "                        print(i, j, k)\n",
    "\n",
    "list1 = [1, 2, 3]\n",
    "get_combinations(list1)"
   ]
  },
  {
   "cell_type": "markdown",
   "id": "5288bb89",
   "metadata": {},
   "source": [
    "**34-write a Python program to find all the Combinations in the list with the given condition (Input: test_list = [1,2,3] \n",
    "Output: \n",
    " [1], [1, 2], [1, 2, 3], [1, 3]\n",
    " [2], [2, 3], [3])"
   ]
  },
  {
   "cell_type": "code",
   "execution_count": 34,
   "id": "59b89646",
   "metadata": {
    "ExecuteTime": {
     "end_time": "2023-08-14T20:53:29.397673Z",
     "start_time": "2023-08-14T20:53:29.389677Z"
    }
   },
   "outputs": [
    {
     "name": "stdout",
     "output_type": "stream",
     "text": [
      "[1, 2]\n",
      "[1, 3]\n",
      "[2, 3]\n",
      "[1, 2, 3]\n"
     ]
    }
   ],
   "source": [
    "def find_combinations(arr):\n",
    "    n = len(arr)\n",
    "    res = []\n",
    "    for i in range(1 << n):\n",
    "        temp = []\n",
    "        for j in range(n):\n",
    "            if i & (1 << j):\n",
    "                temp.append(arr[j])\n",
    "        if len(temp) > 1:\n",
    "            res.append(temp)\n",
    "    return res\n",
    "\n",
    "test_list = [1, 2, 3]\n",
    "combinations = find_combinations(test_list)\n",
    "for c in combinations:\n",
    "    print(c)"
   ]
  },
  {
   "cell_type": "markdown",
   "id": "39973705",
   "metadata": {},
   "source": [
    "**35-write a Python program to get all unique combinations of two Lists (List_1 = [\"a\",\"b\"]\n",
    "List_2 = [1,2]\n",
    "Unique_combination = [[('a',1),('b',2)],[('a',2),('b',1)]] )"
   ]
  },
  {
   "cell_type": "code",
   "execution_count": 9,
   "id": "8c4ba22b",
   "metadata": {
    "ExecuteTime": {
     "end_time": "2023-08-15T04:59:45.589976Z",
     "start_time": "2023-08-15T04:59:45.581961Z"
    }
   },
   "outputs": [
    {
     "name": "stdout",
     "output_type": "stream",
     "text": [
      "[[('a', 1), ('a', 2)], [('b', 1), ('b', 2)]]\n"
     ]
    }
   ],
   "source": [
    "list_1 = [\"a\", \"b\"]\n",
    "list_2 = [1, 2]\n",
    "\n",
    "unique_combination = [[(x,y) for y in list_2] for x in list_1]\n",
    "print(unique_combination)"
   ]
  },
  {
   "cell_type": "markdown",
   "id": "25199af5",
   "metadata": {},
   "source": [
    "**36-Remove all the occurrences of an element from a list in Python (Input : 1 1 2 3 4 5 1 2 1 \n",
    "\n",
    "**Output : 2 3 4 5 2)"
   ]
  },
  {
   "cell_type": "code",
   "execution_count": 8,
   "id": "6dc4c2ba",
   "metadata": {
    "ExecuteTime": {
     "end_time": "2023-08-15T04:57:32.067562Z",
     "start_time": "2023-08-15T04:57:22.388900Z"
    }
   },
   "outputs": [
    {
     "name": "stdout",
     "output_type": "stream",
     "text": [
      "enter your number1 2 3 5 4 4 5 75\n",
      "enter your item5\n",
      "['1', '2', '3', '4', '4', '7']\n"
     ]
    }
   ],
   "source": [
    "def remove(list1, item):\n",
    "    for i in list1:\n",
    "        if i == \" \":\n",
    "            list1.remove(\" \")\n",
    "    for i in list1:\n",
    "        if i == item:\n",
    "            list1.remove(i)\n",
    "    return list1\n",
    "\n",
    "lis = list(input(\"enter your number\"))\n",
    "item = input(\"enter your item\")\n",
    "print(remove(lis, item))"
   ]
  },
  {
   "cell_type": "markdown",
   "id": "bf1a3c93",
   "metadata": {},
   "source": [
    "**37-write a python program to Replace index elements with elements in Other List (The original list 1 is : [‘Gfg’, ‘is’, ‘best’] The original list 2 is : [0, 1, 2, 1, 0, 0, 0, 2, 1, 1, 2, 0] The lists after index elements replacements is : [‘Gfg’, ‘is’, ‘best’, ‘is’, ‘Gfg’, ‘Gfg’, ‘Gfg’, ‘best’, ‘is’, ‘is’, ‘best’, ‘Gfg’])"
   ]
  },
  {
   "cell_type": "code",
   "execution_count": 13,
   "id": "fdd66a71",
   "metadata": {
    "ExecuteTime": {
     "end_time": "2023-08-15T05:08:13.415193Z",
     "start_time": "2023-08-15T05:08:13.404946Z"
    }
   },
   "outputs": [
    {
     "name": "stdout",
     "output_type": "stream",
     "text": [
      "['Gfg', 'is', 'best', 'is', 'Gfg', 'Gfg', 'Gfg', 'best', 'is', 'is', 'best', 'Gfg']\n"
     ]
    }
   ],
   "source": [
    "def replace_with_index(list1, list2):\n",
    "    new_list = []\n",
    "    for i in list2:\n",
    "        new_list.append(list1[i])\n",
    "    return new_list\n",
    "\n",
    "list1 = [\"Gfg\", \"is\", \"best\"] \n",
    "list2 =  [0, 1, 2, 1, 0, 0, 0, 2, 1, 1, 2, 0]\n",
    "print(replace_with_index(list1, list2))"
   ]
  },
  {
   "cell_type": "markdown",
   "id": "af0f56e8",
   "metadata": {},
   "source": [
    "**38- write python program to Retain records with N occurrences of K(Input : test_list = [(4, 5, 5, 4), (5, 4, 3)], K = 5, N = 2 \n",
    "Output : [(4, 5, 5, 4)]\n",
    "Input : test_list = [(4, 5, 5, 4), (5, 4, 3)], K = 5, N = 3 \n",
    "Output : [] )"
   ]
  },
  {
   "cell_type": "code",
   "execution_count": 15,
   "id": "67b06671",
   "metadata": {
    "ExecuteTime": {
     "end_time": "2023-08-15T10:52:03.435073Z",
     "start_time": "2023-08-15T10:52:03.425056Z"
    }
   },
   "outputs": [
    {
     "name": "stdout",
     "output_type": "stream",
     "text": [
      "[(4, 5, 5, 4)]\n",
      "[]\n"
     ]
    }
   ],
   "source": [
    "def retain_records(list1, K, N):\n",
    "    result = []\n",
    "    for i in list1:\n",
    "        count = i.count(K)\n",
    "        if count == N:\n",
    "            result.append(i)\n",
    "    return result\n",
    "\n",
    "test_list = [(4, 5, 5, 4), (5, 4, 3)]\n",
    "K = 5\n",
    "N = 2\n",
    "print(retain_records(test_list, K, N))\n",
    "\n",
    "test_list = [(4, 5, 5, 4), (5, 4, 3)]\n",
    "K = 5\n",
    "N = 3\n",
    "print(retain_records(test_list, K, N))"
   ]
  },
  {
   "cell_type": "markdown",
   "id": "de76f183",
   "metadata": {},
   "source": [
    "**39-write a Python Program to Sort the list according to the column using lambda\n",
    "array = [[1, 3, 3], [2, 1, 2], [3, 2, 1]]\n",
    "Output :\n",
    "Sorted array specific to column 0, [[1, 3, 3], [2, 1, 2], [3, 2, 1]]\n",
    "Sorted array specific to column 1, [[2, 1, 2], [3, 2, 1], [1, 3, 3]]\n",
    "Sorted array specific to column 2, [[3, 2, 1], [2, 1, 2], [1, 3, 3]]"
   ]
  },
  {
   "cell_type": "code",
   "execution_count": null,
   "id": "dc883308",
   "metadata": {},
   "outputs": [],
   "source": [
    "array  = [[1, 3, 3], [2, 1, 2], [3, 2, 1]]\n",
    "num = int(input(\"enter your number\"))\n",
    "\n",
    "lambda array, num : "
   ]
  },
  {
   "cell_type": "markdown",
   "id": "9c102598",
   "metadata": {
    "ExecuteTime": {
     "end_time": "2023-08-15T11:04:47.345281Z",
     "start_time": "2023-08-15T11:04:47.337118Z"
    }
   },
   "source": [
    "**40- write a program to Sort Python Dictionaries by Key or Value\n",
    "Input:\n",
    "{'ravi': 10, 'rajnish': 9, 'sanjeev': 15, 'yash': 2, 'suraj': 32}\n",
    "\n",
    "Output: \n",
    "{'rajnish': 9, 'ravi': 10, 'sanjeev': 15, 'suraj': 32, 'yash': 2}"
   ]
  },
  {
   "cell_type": "code",
   "execution_count": 19,
   "id": "ed6dd405",
   "metadata": {
    "ExecuteTime": {
     "end_time": "2023-08-15T15:19:22.829762Z",
     "start_time": "2023-08-15T15:19:22.812636Z"
    }
   },
   "outputs": [
    {
     "name": "stdout",
     "output_type": "stream",
     "text": [
      "{'rajnish': 9, 'ravi': 10, 'sanjeev': 15, 'suraj': 32, 'yash': 2}\n"
     ]
    }
   ],
   "source": [
    "def sort_dicit(dict1):\n",
    "    sorted_dict = dict(sorted(dict1.items()))\n",
    "    return sorted_dict\n",
    "\n",
    "dict1 = {'ravi': 10, 'rajnish': 9, 'sanjeev': 15, 'yash': 2, 'suraj': 32}\n",
    "print(sort_dicit(dict1))"
   ]
  },
  {
   "cell_type": "markdown",
   "id": "ec63c23a",
   "metadata": {},
   "source": [
    "**41-write python program to Remove keys with Values Greater than K ( Including mixed values )\n",
    "nput : test_dict = {‘Gfg’ : 3, ‘is’ : 7, ‘best’ : 10, ‘for’ : 6, ‘geeks’ : ‘CS’},\n",
    "K = 7 \n",
    "Output : {‘Gfg’ : 3, ‘for’ : 6, ‘geeks’ : ‘CS’}"
   ]
  },
  {
   "cell_type": "code",
   "execution_count": 32,
   "id": "e39c3a40",
   "metadata": {
    "ExecuteTime": {
     "end_time": "2023-08-15T17:56:24.330584Z",
     "start_time": "2023-08-15T17:56:22.141298Z"
    }
   },
   "outputs": [
    {
     "name": "stdout",
     "output_type": "stream",
     "text": [
      "enter your value: 7\n",
      "{'Gfg': 3, 'is': 7, 'for': 6, 'geeks': 'CS'}\n"
     ]
    }
   ],
   "source": [
    "def delete(dict1, k):\n",
    "    dict1 = {key: value for key, value in dict1.items() if not isinstance(value, int) or value <= K}\n",
    "    return dict1\n",
    "\n",
    "dict1 = {\"Gfg\" : 3, \"is\" : 7, \"best\" : 10, \"for\" : 6, \"geeks\" : \"CS\"}\n",
    "k = int(input(\"enter your value: \"))\n",
    "print(delete(dict1, k))"
   ]
  },
  {
   "cell_type": "markdown",
   "id": "f143f0fe",
   "metadata": {},
   "source": [
    "**42-Write a Python program to concatenate the following dictionaries to create a new one\n",
    "\n",
    "Sample Dictionary :\n",
    "dic1={1:10, 2:20}\n",
    "dic2={3:30, 4:40}\n",
    "dic3={5:50,6:60}\n",
    "Expected Result : {1: 10, 2: 20, 3: 30, 4: 40, 5: 50, 6: 60}"
   ]
  },
  {
   "cell_type": "code",
   "execution_count": 19,
   "id": "74ffdfea",
   "metadata": {
    "ExecuteTime": {
     "end_time": "2023-08-16T15:01:54.843285Z",
     "start_time": "2023-08-16T15:01:54.834992Z"
    }
   },
   "outputs": [
    {
     "name": "stdout",
     "output_type": "stream",
     "text": [
      "{1: 10, 2: 20, 3: 30, 4: 40, 5: 50, 6: 60}\n"
     ]
    }
   ],
   "source": [
    "dict1={1:10, 2:20}\n",
    "dict2={3:30, 4:40}\n",
    "dict3={5:50,6:60}\n",
    "dict4 = {}\n",
    "for d in (dict1, dict2, dict3): dict4.update(d)\n",
    "print(dict4)"
   ]
  },
  {
   "cell_type": "markdown",
   "id": "fb04c93c",
   "metadata": {},
   "source": [
    "**43-Write a Python program to iterate over dictionaries using for loops"
   ]
  },
  {
   "cell_type": "code",
   "execution_count": 37,
   "id": "6aebc470",
   "metadata": {
    "ExecuteTime": {
     "end_time": "2023-08-15T17:59:42.157844Z",
     "start_time": "2023-08-15T17:59:42.151477Z"
    }
   },
   "outputs": [
    {
     "name": "stdout",
     "output_type": "stream",
     "text": [
      "Gfg : 3\n",
      "is : 7\n",
      "best : 10\n",
      "for : 6\n",
      "geeks : CS\n"
     ]
    }
   ],
   "source": [
    "dict1 = {\"Gfg\" : 3, \"is\" : 7, \"best\" : 10, \"for\" : 6, \"geeks\" : \"CS\"}\n",
    "for key,value in dict1.items():\n",
    "    print(key,\":\", value,)"
   ]
  },
  {
   "cell_type": "markdown",
   "id": "5f491a9d",
   "metadata": {},
   "source": [
    "**44- Write a Python script to merge two Python dictionaries"
   ]
  },
  {
   "cell_type": "code",
   "execution_count": 20,
   "id": "b8a14028",
   "metadata": {
    "ExecuteTime": {
     "end_time": "2023-08-16T15:05:12.357014Z",
     "start_time": "2023-08-16T15:05:12.339761Z"
    }
   },
   "outputs": [
    {
     "name": "stdout",
     "output_type": "stream",
     "text": [
      "{'x': 10, 'y': 8, 'a': 6, 'b': 4}\n"
     ]
    }
   ],
   "source": [
    "def Merge(dict1, dict2):\n",
    "    return dict1 | dict2\n",
    "       \n",
    "dict1 = {'x': 10, 'y': 8}\n",
    "dict2 = {'a': 6, 'b': 4}\n",
    "print(Merge(dict1, dict2))"
   ]
  },
  {
   "cell_type": "markdown",
   "id": "216fc72d",
   "metadata": {},
   "source": [
    "**45-Write a Python program to get the maximum and minimum values of a dictionary values"
   ]
  },
  {
   "cell_type": "code",
   "execution_count": 40,
   "id": "d6883f5f",
   "metadata": {
    "ExecuteTime": {
     "end_time": "2023-08-15T18:01:25.066581Z",
     "start_time": "2023-08-15T18:01:25.053975Z"
    }
   },
   "outputs": [
    {
     "data": {
      "text/plain": [
       "7"
      ]
     },
     "execution_count": 40,
     "metadata": {},
     "output_type": "execute_result"
    }
   ],
   "source": [
    "dict1 = {\"Gfg\" : 3, \"is\" : 7, \"best\" : 10, \"for\" : 6, \"geeks\" : \"CS\"}\n",
    "\n",
    "dict1[max(dict1)]"
   ]
  },
  {
   "cell_type": "markdown",
   "id": "b6a53011",
   "metadata": {},
   "source": [
    "**46- Write a Python program to drop empty items from a given dictionary.\n",
    "Original Dictionary:\n",
    "{'c1': 'Red', 'c2': 'Green', 'c3': None}\n",
    "New Dictionary after dropping empty items:\n",
    "{'c1': 'Red', 'c2': 'Green'}"
   ]
  },
  {
   "cell_type": "code",
   "execution_count": 48,
   "id": "b5c6fecf",
   "metadata": {
    "ExecuteTime": {
     "end_time": "2023-08-15T18:09:36.960455Z",
     "start_time": "2023-08-15T18:09:36.945495Z"
    }
   },
   "outputs": [
    {
     "name": "stdout",
     "output_type": "stream",
     "text": [
      "{'c1': 'Red', 'c2': 'Green'}\n"
     ]
    }
   ],
   "source": [
    "def delete_empty(dic1):\n",
    "    dict2={}\n",
    "    for key,value in dict1.items():\n",
    "        if value != None:\n",
    "            dict2[key] = value\n",
    "    return dict2\n",
    "\n",
    "dict1 = {'c1': 'Red', 'c2': 'Green', 'c3': None} \n",
    "print(delete_empty(dict1))"
   ]
  },
  {
   "cell_type": "markdown",
   "id": "46d718c7",
   "metadata": {},
   "source": [
    "**47-Write a Python program to create a tuple of numbers and print one item"
   ]
  },
  {
   "cell_type": "code",
   "execution_count": 12,
   "id": "13216ff5",
   "metadata": {
    "ExecuteTime": {
     "end_time": "2023-08-15T13:49:47.144581Z",
     "start_time": "2023-08-15T13:49:47.136634Z"
    }
   },
   "outputs": [
    {
     "data": {
      "text/plain": [
       "(97, 83, 92, 101, 89, 26, 55, 83, 49, 62, 25, 7)"
      ]
     },
     "execution_count": 12,
     "metadata": {},
     "output_type": "execute_result"
    }
   ],
   "source": [
    "tuple1 = (97, 83, 92, 101, 89, 26, 55, 83, 49, 62, 25, 7)\n",
    "\n",
    "tuple1"
   ]
  },
  {
   "cell_type": "markdown",
   "id": "2be5b56b",
   "metadata": {},
   "source": [
    "**48-Write a Python program to unpack a tuple into several variables"
   ]
  },
  {
   "cell_type": "code",
   "execution_count": 15,
   "id": "595f44be",
   "metadata": {
    "ExecuteTime": {
     "end_time": "2023-08-15T13:52:53.363074Z",
     "start_time": "2023-08-15T13:52:53.346223Z"
    }
   },
   "outputs": [
    {
     "name": "stdout",
     "output_type": "stream",
     "text": [
      "1 \n",
      " 2 \n",
      " 3 \n",
      " 4\n"
     ]
    }
   ],
   "source": [
    "tuple1 = (1, 2, 3, 4)\n",
    "\n",
    "a, b, c, d = tuple1\n",
    "\n",
    "print(a,\"\\n\",b,\"\\n\",c,\"\\n\",d)"
   ]
  },
  {
   "cell_type": "markdown",
   "id": "392388a7",
   "metadata": {},
   "source": [
    "**49-Write a Python program to add an item to a tuple"
   ]
  },
  {
   "cell_type": "code",
   "execution_count": 17,
   "id": "54cc092e",
   "metadata": {
    "ExecuteTime": {
     "end_time": "2023-08-15T15:10:49.458645Z",
     "start_time": "2023-08-15T15:10:49.445464Z"
    }
   },
   "outputs": [
    {
     "name": "stdout",
     "output_type": "stream",
     "text": [
      "(97, 83, 92, 101, 89, 26, 55, 83, 49, 62, 25, 7, 22)\n"
     ]
    }
   ],
   "source": [
    "def add_to_tuple(tuple1, item):\n",
    "    tuple1 = tuple1 + (item,)\n",
    "    return tuple1\n",
    "\n",
    "tuple1 = (97, 83, 92, 101, 89, 26, 55, 83, 49, 62, 25, 7)\n",
    "print(add_to_tuple(tuple1, 22))"
   ]
  },
  {
   "cell_type": "markdown",
   "id": "3e8fd124",
   "metadata": {},
   "source": [
    "**50-Write a Python program to convert a tuple to a string"
   ]
  },
  {
   "cell_type": "code",
   "execution_count": 11,
   "id": "92a71ddc",
   "metadata": {
    "ExecuteTime": {
     "end_time": "2023-08-15T13:45:58.066783Z",
     "start_time": "2023-08-15T13:45:58.056105Z"
    }
   },
   "outputs": [
    {
     "name": "stdout",
     "output_type": "stream",
     "text": [
      "<class 'tuple'>\n",
      "<class 'str'>\n"
     ]
    }
   ],
   "source": [
    "def tuple_to_string(tuple1):\n",
    "    return \"\".join(tuple1)\n",
    "\n",
    "\n",
    "tuple1 = ('a', 'b', 'c', 'd', 'e')\n",
    "print(type(tuple1))\n",
    "tuple1 = tuple_to_string(tuple1)\n",
    "print(type(tuple1))"
   ]
  },
  {
   "cell_type": "markdown",
   "id": "f4f64ef4",
   "metadata": {},
   "source": [
    "**51-Write a Python program to convert a list to a tuple"
   ]
  },
  {
   "cell_type": "code",
   "execution_count": 8,
   "id": "210d56d3",
   "metadata": {
    "ExecuteTime": {
     "end_time": "2023-08-15T13:18:39.253321Z",
     "start_time": "2023-08-15T13:18:39.240183Z"
    }
   },
   "outputs": [
    {
     "name": "stdout",
     "output_type": "stream",
     "text": [
      "<class 'list'>\n",
      "<class 'tuple'>\n"
     ]
    }
   ],
   "source": [
    "def convert_to_tuple(list1):\n",
    "    return tuple(list1)\n",
    "\n",
    "list1 = [97, 83, 92, 101, 89, 26, 55, 83, 49, 62, 25, 7]\n",
    "print(type(list1))\n",
    "list1 = convert_to_tuple(list1)\n",
    "print(type(list1))"
   ]
  },
  {
   "cell_type": "markdown",
   "id": "b1e00ef7",
   "metadata": {},
   "source": [
    "**52-Write a Python program to reverse a tuple"
   ]
  },
  {
   "cell_type": "code",
   "execution_count": 38,
   "id": "f45bfdc7",
   "metadata": {
    "ExecuteTime": {
     "end_time": "2023-08-15T12:31:57.310765Z",
     "start_time": "2023-08-15T12:31:57.300791Z"
    }
   },
   "outputs": [
    {
     "name": "stdout",
     "output_type": "stream",
     "text": [
      "(7, 25, 62, 49, 83, 55, 26, 89, 101, 92, 83, 97)\n"
     ]
    }
   ],
   "source": [
    "def reverse_tuple(tuple1):\n",
    "    return tuple1[::-1]\n",
    "\n",
    "tuple1 = (97, 83, 92, 101, 89, 26, 55, 83, 49, 62, 25, 7)\n",
    "print(reverse_tuple(tuple1))"
   ]
  },
  {
   "cell_type": "markdown",
   "id": "3cd347d1",
   "metadata": {},
   "source": [
    "**53-Write a Python program to replace the last value of tuples in a list.\n",
    "Sample list: [(10, 20, 40), (40, 50, 60), (70, 80, 90)]\n",
    "Expected Output: [(10, 20, 100), (40, 50, 100), (70, 80, 100)]"
   ]
  },
  {
   "cell_type": "code",
   "execution_count": 5,
   "id": "3c4a2a4c",
   "metadata": {
    "ExecuteTime": {
     "end_time": "2023-08-15T12:47:07.349402Z",
     "start_time": "2023-08-15T12:47:07.341173Z"
    }
   },
   "outputs": [
    {
     "name": "stdout",
     "output_type": "stream",
     "text": [
      "[(10, 20, 100), (40, 50, 100), (70, 80, 100)]\n"
     ]
    }
   ],
   "source": [
    "def replace_last_value(list1):\n",
    "    list1 = [i[:-1] + (100,) for i in list1]\n",
    "    return list1\n",
    "\n",
    "list1 =  [(10, 20, 40), (40, 50, 60), (70, 80, 90)]\n",
    "print(replace_last_value(list1))"
   ]
  },
  {
   "cell_type": "markdown",
   "id": "76bb7b39",
   "metadata": {},
   "source": [
    "**54-Write a Python program to convert a given string list to a tuple\n",
    "Original string: python 3.0\n",
    "<class 'str'>\n",
    "Convert the said string to a tuple:\n",
    "('p', 'y', 't', 'h', 'o', 'n', '3', '.', '0')"
   ]
  },
  {
   "cell_type": "code",
   "execution_count": 19,
   "id": "51951937",
   "metadata": {
    "ExecuteTime": {
     "end_time": "2023-08-15T12:08:48.740406Z",
     "start_time": "2023-08-15T12:08:37.079971Z"
    }
   },
   "outputs": [
    {
     "name": "stdout",
     "output_type": "stream",
     "text": [
      "enter your string: convert\n",
      "('c', 'o', 'n', 'v', 'e', 'r', 't')\n"
     ]
    }
   ],
   "source": [
    "def convert_to_tuple(string):\n",
    "    return tuple(string)\n",
    "\n",
    "string = input(\"enter your string: \")\n",
    "print(convert_to_tuple(string))"
   ]
  },
  {
   "cell_type": "markdown",
   "id": "5a1d5d97",
   "metadata": {},
   "source": [
    "**55-Write a Python program to calculate the average value of the numbers in a given tuple of tuples"
   ]
  },
  {
   "cell_type": "code",
   "execution_count": 27,
   "id": "834e7992",
   "metadata": {
    "ExecuteTime": {
     "end_time": "2023-08-15T12:23:15.158193Z",
     "start_time": "2023-08-15T12:23:15.140359Z"
    }
   },
   "outputs": [
    {
     "name": "stdout",
     "output_type": "stream",
     "text": [
      "[30.5, 34.25, 27.0, 23.25]\n"
     ]
    }
   ],
   "source": [
    "def average_tuple(num_tuple):\n",
    "    return [sum(x) / len(x) for x in zip(*nums)]\n",
    "\n",
    "num_tuple = ((10, 10, 10, 12), (30, 45, 56, 45), (81, 80, 39, 32), (1, 2, 3, 4))\n",
    "print(average_tuple(num_tuple))"
   ]
  },
  {
   "cell_type": "markdown",
   "id": "51edab9c",
   "metadata": {},
   "source": [
    "**56-Write a Python program to add member(s) to a set."
   ]
  },
  {
   "cell_type": "code",
   "execution_count": 22,
   "id": "2b65df79",
   "metadata": {
    "ExecuteTime": {
     "end_time": "2023-08-16T15:08:18.440021Z",
     "start_time": "2023-08-16T15:08:18.433119Z"
    }
   },
   "outputs": [
    {
     "name": "stdout",
     "output_type": "stream",
     "text": [
      "{1, 2, 3, 4, 5, 6}\n"
     ]
    }
   ],
   "source": [
    "def add_to_set(set1, *args):\n",
    "    for arg in args:\n",
    "        set1.add(arg)\n",
    "    return set1\n",
    "\n",
    "set1 = {1, 2, 3}\n",
    "num = (4, 5, 6)\n",
    "print(add_to_set(set1, *num))"
   ]
  },
  {
   "cell_type": "markdown",
   "id": "965590cc",
   "metadata": {},
   "source": [
    "**57-Write a Python program to remove an item from a set if it is present in the set."
   ]
  },
  {
   "cell_type": "code",
   "execution_count": 26,
   "id": "866bab28",
   "metadata": {
    "ExecuteTime": {
     "end_time": "2023-08-16T15:17:29.355748Z",
     "start_time": "2023-08-16T15:17:26.908125Z"
    }
   },
   "outputs": [
    {
     "name": "stdout",
     "output_type": "stream",
     "text": [
      "enter the item you want tto delete: 5\n",
      "{1, 2, 3, 4, 6}\n"
     ]
    }
   ],
   "source": [
    "def remove_from_set(set1, item):\n",
    "    set1.remove(item)\n",
    "    return set1\n",
    "\n",
    "set1 = {1, 2, 3, 4, 5, 6}\n",
    "item = int(input(\"enter the item you want tto delete: \"))\n",
    "print(remove_from_set(set1, item))"
   ]
  },
  {
   "cell_type": "markdown",
   "id": "2b7cfed1",
   "metadata": {},
   "source": [
    "**58-Write a Python program to create an intersection,union,difference and symmetric difference of sets"
   ]
  },
  {
   "cell_type": "code",
   "execution_count": 27,
   "id": "7f94b7fe",
   "metadata": {
    "ExecuteTime": {
     "end_time": "2023-08-16T16:16:52.388347Z",
     "start_time": "2023-08-16T16:16:52.369371Z"
    }
   },
   "outputs": [
    {
     "name": "stdout",
     "output_type": "stream",
     "text": [
      "({3, 4}, {1, 2, 3, 4, 5, 6}, {1, 2}, {1, 2, 5, 6})\n"
     ]
    }
   ],
   "source": [
    "def set_operations(s1, s2):\n",
    "    intersection = s1 & s2\n",
    "    union = s1 | s2\n",
    "    difference = s1 - s2\n",
    "    symmetric_difference = s1 ^ s2\n",
    "    return (intersection, union, difference, symmetric_difference)\n",
    "\n",
    "s1 = {1, 2, 3, 4}\n",
    "s2 = {3, 4, 5, 6}\n",
    "print(set_operations(s1, s2)) "
   ]
  },
  {
   "cell_type": "markdown",
   "id": "b94931e2",
   "metadata": {},
   "source": [
    "**59-Write a Python program to find the maximum and minimum values in a set"
   ]
  },
  {
   "cell_type": "code",
   "execution_count": 29,
   "id": "203f9600",
   "metadata": {
    "ExecuteTime": {
     "end_time": "2023-08-16T16:19:05.357697Z",
     "start_time": "2023-08-16T16:19:05.346299Z"
    }
   },
   "outputs": [
    {
     "name": "stdout",
     "output_type": "stream",
     "text": [
      "4\n"
     ]
    }
   ],
   "source": [
    "def find_max(set1):\n",
    "    max_num = 0\n",
    "    for i in set1:\n",
    "        if max_num < i:\n",
    "            max_num = i\n",
    "    return max_num\n",
    "set1 = {1, 2, 3, 4}\n",
    "print(find_max(set1))"
   ]
  },
  {
   "cell_type": "markdown",
   "id": "255fd554",
   "metadata": {},
   "source": [
    "**60- Write a Python program that finds all pairs of elements in a list whose sum is equal to a given value."
   ]
  },
  {
   "cell_type": "code",
   "execution_count": 32,
   "id": "c2d94e1f",
   "metadata": {
    "ExecuteTime": {
     "end_time": "2023-08-16T16:26:52.672547Z",
     "start_time": "2023-08-16T16:26:52.655974Z"
    }
   },
   "outputs": [
    {
     "name": "stdout",
     "output_type": "stream",
     "text": [
      "[(1, 6), (2, 5), (3, 4)]\n"
     ]
    }
   ],
   "source": [
    "def find_pairs(list1, value):\n",
    "    pairs = []\n",
    "    for i in range(len(list1)):\n",
    "        for j in range(i+1, len(list1)):\n",
    "            if list1[i] + list1[j] == value:\n",
    "                pairs.append((list1[i], list1[j]))\n",
    "    return pairs\n",
    "\n",
    "list1 = [1, 2, 3, 4, 5, 6]\n",
    "value = 7\n",
    "print(find_pairs(list1, value))"
   ]
  }
 ],
 "metadata": {
  "kernelspec": {
   "display_name": "Python 3 (ipykernel)",
   "language": "python",
   "name": "python3"
  },
  "language_info": {
   "codemirror_mode": {
    "name": "ipython",
    "version": 3
   },
   "file_extension": ".py",
   "mimetype": "text/x-python",
   "name": "python",
   "nbconvert_exporter": "python",
   "pygments_lexer": "ipython3",
   "version": "3.9.13"
  }
 },
 "nbformat": 4,
 "nbformat_minor": 5
}
